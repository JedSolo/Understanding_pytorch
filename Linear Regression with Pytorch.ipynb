{
 "cells": [
  {
   "cell_type": "code",
   "execution_count": 38,
   "id": "73f99ff0",
   "metadata": {},
   "outputs": [],
   "source": [
    "import torch\n",
    "import torch.nn as nn\n",
    "from torch import optim\n",
    "import torch.nn.functional as F\n",
    "import csv\n",
    "import random\n",
    "import re\n",
    "import os\n",
    "import unicodedata\n",
    "import itertools\n",
    "import numpy as np"
   ]
  },
  {
   "cell_type": "code",
   "execution_count": 39,
   "id": "6f04f2c7",
   "metadata": {},
   "outputs": [],
   "source": [
    "# Input (temp, rainfall, humidity)\n",
    "inputs = np.array([[73, 67, 43], \n",
    "                   [91, 88, 64], \n",
    "                   [87, 134, 58], \n",
    "                   [102, 43, 37], \n",
    "                   [69, 96, 70], \n",
    "                   [74, 66, 43], \n",
    "                   [91, 87, 65], \n",
    "                   [88, 134, 59], \n",
    "                   [101, 44, 37], \n",
    "                   [68, 96, 71], \n",
    "                   [73, 66, 44], \n",
    "                   [92, 87, 64], \n",
    "                   [87, 135, 57], \n",
    "                   [103, 43, 36], \n",
    "                   [68, 97, 70]], \n",
    "                  dtype='float32')\n",
    "\n",
    "# Targets (apples, oranges)\n",
    "targets = np.array([[56, 70], \n",
    "                    [81, 101], \n",
    "                    [119, 133], \n",
    "                    [22, 37], \n",
    "                    [103, 119],\n",
    "                    [57, 69], \n",
    "                    [80, 102], \n",
    "                    [118, 132], \n",
    "                    [21, 38], \n",
    "                    [104, 118], \n",
    "                    [57, 69], \n",
    "                    [82, 100], \n",
    "                    [118, 134], \n",
    "                    [20, 38], \n",
    "                    [102, 120]], \n",
    "                   dtype='float32')\n",
    "\n",
    "inputs = torch.from_numpy(inputs)\n",
    "targets = torch.from_numpy(targets)"
   ]
  },
  {
   "cell_type": "code",
   "execution_count": 40,
   "id": "1c813ef9",
   "metadata": {},
   "outputs": [
    {
     "data": {
      "text/plain": [
       "tensor([[ 73.,  67.,  43.],\n",
       "        [ 91.,  88.,  64.],\n",
       "        [ 87., 134.,  58.],\n",
       "        [102.,  43.,  37.],\n",
       "        [ 69.,  96.,  70.],\n",
       "        [ 74.,  66.,  43.],\n",
       "        [ 91.,  87.,  65.],\n",
       "        [ 88., 134.,  59.],\n",
       "        [101.,  44.,  37.],\n",
       "        [ 68.,  96.,  71.],\n",
       "        [ 73.,  66.,  44.],\n",
       "        [ 92.,  87.,  64.],\n",
       "        [ 87., 135.,  57.],\n",
       "        [103.,  43.,  36.],\n",
       "        [ 68.,  97.,  70.]])"
      ]
     },
     "execution_count": 40,
     "metadata": {},
     "output_type": "execute_result"
    }
   ],
   "source": [
    "inputs"
   ]
  },
  {
   "cell_type": "markdown",
   "id": "bd0fd013",
   "metadata": {},
   "source": [
    "### Dataset and Dataloader:"
   ]
  },
  {
   "cell_type": "code",
   "execution_count": 41,
   "id": "15e55546",
   "metadata": {},
   "outputs": [
    {
     "data": {
      "text/plain": [
       "(tensor([[ 73.,  67.,  43.],\n",
       "         [ 91.,  88.,  64.],\n",
       "         [ 87., 134.,  58.]]),\n",
       " tensor([[ 56.,  70.],\n",
       "         [ 81., 101.],\n",
       "         [119., 133.]]))"
      ]
     },
     "execution_count": 41,
     "metadata": {},
     "output_type": "execute_result"
    }
   ],
   "source": [
    "from torch.utils.data import TensorDataset\n",
    "\n",
    "# Define dataset\n",
    "train_ds = TensorDataset(inputs, targets)\n",
    "train_ds[0:3]"
   ]
  },
  {
   "cell_type": "code",
   "execution_count": 42,
   "id": "d446c307",
   "metadata": {},
   "outputs": [],
   "source": [
    "from torch.utils.data import DataLoader\n",
    "\n",
    "batch_size = 5\n",
    "train_dl = DataLoader(train_ds, batch_size, shuffle=True)"
   ]
  },
  {
   "cell_type": "code",
   "execution_count": 43,
   "id": "e2fef802",
   "metadata": {},
   "outputs": [
    {
     "name": "stdout",
     "output_type": "stream",
     "text": [
      "Batch:\n",
      "tensor([[ 74.,  66.,  43.],\n",
      "        [ 73.,  66.,  44.],\n",
      "        [ 87., 135.,  57.],\n",
      "        [103.,  43.,  36.],\n",
      "        [ 92.,  87.,  64.]]) tensor([[ 57.,  69.],\n",
      "        [ 57.,  69.],\n",
      "        [118., 134.],\n",
      "        [ 20.,  38.],\n",
      "        [ 82., 100.]])\n",
      "Batch:\n",
      "tensor([[ 88., 134.,  59.],\n",
      "        [ 73.,  67.,  43.],\n",
      "        [101.,  44.,  37.],\n",
      "        [ 91.,  87.,  65.],\n",
      "        [ 68.,  97.,  70.]]) tensor([[118., 132.],\n",
      "        [ 56.,  70.],\n",
      "        [ 21.,  38.],\n",
      "        [ 80., 102.],\n",
      "        [102., 120.]])\n",
      "Batch:\n",
      "tensor([[ 87., 134.,  58.],\n",
      "        [ 68.,  96.,  71.],\n",
      "        [ 69.,  96.,  70.],\n",
      "        [102.,  43.,  37.],\n",
      "        [ 91.,  88.,  64.]]) tensor([[119., 133.],\n",
      "        [104., 118.],\n",
      "        [103., 119.],\n",
      "        [ 22.,  37.],\n",
      "        [ 81., 101.]])\n"
     ]
    }
   ],
   "source": [
    "for xd, yd in train_dl:\n",
    "    print('Batch:')\n",
    "    print(xd, yd)"
   ]
  },
  {
   "cell_type": "markdown",
   "id": "93f9f337",
   "metadata": {},
   "source": [
    "### nn.Linear"
   ]
  },
  {
   "cell_type": "code",
   "execution_count": 44,
   "id": "c5186d99",
   "metadata": {},
   "outputs": [
    {
     "name": "stdout",
     "output_type": "stream",
     "text": [
      "Parameter containing:\n",
      "tensor([[-0.1258, -0.5694, -0.3067],\n",
      "        [-0.3332,  0.2669,  0.4635]], requires_grad=True)\n",
      "Parameter containing:\n",
      "tensor([0.0436, 0.2218], requires_grad=True)\n"
     ]
    }
   ],
   "source": [
    "# Define model\n",
    "model = nn.Linear(3, 2)\n",
    "print(model.weight)\n",
    "print(model.bias)"
   ]
  },
  {
   "cell_type": "code",
   "execution_count": 45,
   "id": "9439fd28",
   "metadata": {},
   "outputs": [
    {
     "data": {
      "text/plain": [
       "[Parameter containing:\n",
       " tensor([[-0.1258, -0.5694, -0.3067],\n",
       "         [-0.3332,  0.2669,  0.4635]], requires_grad=True),\n",
       " Parameter containing:\n",
       " tensor([0.0436, 0.2218], requires_grad=True)]"
      ]
     },
     "execution_count": 45,
     "metadata": {},
     "output_type": "execute_result"
    }
   ],
   "source": [
    "# Parameters\n",
    "list(model.parameters())"
   ]
  },
  {
   "cell_type": "code",
   "execution_count": 46,
   "id": "49a42ab8",
   "metadata": {},
   "outputs": [
    {
     "data": {
      "text/plain": [
       "tensor([[ -60.4768,   13.7104],\n",
       "        [ -81.1393,   23.0510],\n",
       "        [-104.9862,   33.8820],\n",
       "        [ -48.6201,   -5.1402],\n",
       "        [ -84.7670,   35.2982],\n",
       "        [ -60.0333,   13.1103],\n",
       "        [ -80.8767,   23.2475],\n",
       "        [-105.4188,   34.0122],\n",
       "        [ -49.0637,   -4.5401],\n",
       "        [ -84.9479,   36.0949],\n",
       "        [ -60.2142,   13.9070],\n",
       "        [ -80.6958,   22.4508],\n",
       "        [-105.2488,   33.6854],\n",
       "        [ -48.4392,   -5.9369],\n",
       "        [ -85.2105,   35.8984]], grad_fn=<AddmmBackward0>)"
      ]
     },
     "execution_count": 46,
     "metadata": {},
     "output_type": "execute_result"
    }
   ],
   "source": [
    "# Generate predictions\n",
    "preds = model(inputs)\n",
    "preds"
   ]
  },
  {
   "cell_type": "markdown",
   "id": "ef593dd1",
   "metadata": {},
   "source": [
    "### Lost Function:"
   ]
  },
  {
   "cell_type": "code",
   "execution_count": 47,
   "id": "04b10c9b",
   "metadata": {},
   "outputs": [],
   "source": [
    "import torch.nn.functional as F\n",
    "\n",
    "# Define loss function\n",
    "loss_fn = F.mse_loss"
   ]
  },
  {
   "cell_type": "code",
   "execution_count": 48,
   "id": "4b1e5d4f",
   "metadata": {},
   "outputs": [
    {
     "name": "stdout",
     "output_type": "stream",
     "text": [
      "tensor(15785.5420, grad_fn=<MseLossBackward0>)\n"
     ]
    }
   ],
   "source": [
    "loss = loss_fn(model(inputs), targets)\n",
    "print(loss)"
   ]
  },
  {
   "cell_type": "markdown",
   "id": "857987e6",
   "metadata": {},
   "source": [
    "### Optimizer"
   ]
  },
  {
   "cell_type": "code",
   "execution_count": 49,
   "id": "f3b83993",
   "metadata": {},
   "outputs": [],
   "source": [
    "# Define optimizer\n",
    "opt = torch.optim.SGD(model.parameters(), lr=1e-5)"
   ]
  },
  {
   "cell_type": "code",
   "execution_count": 50,
   "id": "651ead11",
   "metadata": {},
   "outputs": [],
   "source": [
    "# Utility function to train the model\n",
    "def fit(num_epochs, model, loss_fn, opt, train_dl):\n",
    "    \n",
    "    # Repeat for given number of epochs\n",
    "    for epoch in range(num_epochs):\n",
    "        \n",
    "        # Train with batches of data\n",
    "        for xb,yb in train_dl:\n",
    "            \n",
    "            # 1. Generate predictions\n",
    "            pred = model(xb)\n",
    "            \n",
    "            # 2. Calculate loss\n",
    "            loss = loss_fn(pred, yb)\n",
    "            \n",
    "            # 3. Compute gradients\n",
    "            loss.backward()\n",
    "            \n",
    "            # 4. Update parameters using gradients\n",
    "            opt.step()\n",
    "            \n",
    "            # 5. Reset the gradients to zero\n",
    "            opt.zero_grad()\n",
    "        \n",
    "        # Print the progress\n",
    "        if (epoch+1) % 10 == 0:\n",
    "            print('Epoch [{}/{}], Loss: {:.4f}'.format(epoch+1, num_epochs, loss.item()))"
   ]
  },
  {
   "cell_type": "code",
   "execution_count": 51,
   "id": "31aaa885",
   "metadata": {},
   "outputs": [
    {
     "name": "stdout",
     "output_type": "stream",
     "text": [
      "Epoch [10/100], Loss: 453.6801\n",
      "Epoch [20/100], Loss: 114.6176\n",
      "Epoch [30/100], Loss: 288.3987\n",
      "Epoch [40/100], Loss: 111.1286\n",
      "Epoch [50/100], Loss: 34.9956\n",
      "Epoch [60/100], Loss: 43.5906\n",
      "Epoch [70/100], Loss: 26.8819\n",
      "Epoch [80/100], Loss: 26.2571\n",
      "Epoch [90/100], Loss: 35.6118\n",
      "Epoch [100/100], Loss: 23.5744\n"
     ]
    }
   ],
   "source": [
    "fit(100, model, loss_fn, opt, train_dl)"
   ]
  },
  {
   "cell_type": "code",
   "execution_count": 52,
   "id": "607ce326",
   "metadata": {},
   "outputs": [
    {
     "data": {
      "text/plain": [
       "tensor([[ 58.5424,  70.9140],\n",
       "        [ 80.6782,  99.8622],\n",
       "        [118.4472, 133.4451],\n",
       "        [ 29.9908,  40.4917],\n",
       "        [ 94.1803, 115.7752],\n",
       "        [ 57.4884,  69.8823],\n",
       "        [ 80.2003,  99.8114],\n",
       "        [118.6201, 133.9822],\n",
       "        [ 31.0448,  41.5233],\n",
       "        [ 94.7564, 116.7560],\n",
       "        [ 58.0646,  70.8631],\n",
       "        [ 79.6242,  98.8306],\n",
       "        [118.9250, 133.4960],\n",
       "        [ 29.4147,  39.5109],\n",
       "        [ 95.2343, 116.8068]], grad_fn=<AddmmBackward0>)"
      ]
     },
     "execution_count": 52,
     "metadata": {},
     "output_type": "execute_result"
    }
   ],
   "source": [
    "preds = model(inputs)\n",
    "preds"
   ]
  },
  {
   "cell_type": "code",
   "execution_count": 53,
   "id": "dec43c05",
   "metadata": {},
   "outputs": [
    {
     "data": {
      "text/plain": [
       "tensor([[ 56.,  70.],\n",
       "        [ 81., 101.],\n",
       "        [119., 133.],\n",
       "        [ 22.,  37.],\n",
       "        [103., 119.],\n",
       "        [ 57.,  69.],\n",
       "        [ 80., 102.],\n",
       "        [118., 132.],\n",
       "        [ 21.,  38.],\n",
       "        [104., 118.],\n",
       "        [ 57.,  69.],\n",
       "        [ 82., 100.],\n",
       "        [118., 134.],\n",
       "        [ 20.,  38.],\n",
       "        [102., 120.]])"
      ]
     },
     "execution_count": 53,
     "metadata": {},
     "output_type": "execute_result"
    }
   ],
   "source": [
    "targets"
   ]
  },
  {
   "cell_type": "code",
   "execution_count": null,
   "id": "47d19f8b",
   "metadata": {},
   "outputs": [],
   "source": []
  }
 ],
 "metadata": {
  "kernelspec": {
   "display_name": "Python 3",
   "language": "python",
   "name": "python3"
  },
  "language_info": {
   "codemirror_mode": {
    "name": "ipython",
    "version": 3
   },
   "file_extension": ".py",
   "mimetype": "text/x-python",
   "name": "python",
   "nbconvert_exporter": "python",
   "pygments_lexer": "ipython3",
   "version": "3.8.8"
  }
 },
 "nbformat": 4,
 "nbformat_minor": 5
}
