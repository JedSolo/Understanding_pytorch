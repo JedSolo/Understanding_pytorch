{
 "cells": [
  {
   "cell_type": "code",
   "execution_count": 1,
   "id": "a5d30052",
   "metadata": {},
   "outputs": [],
   "source": [
    "import torch\n",
    "import torchvision\n",
    "from torchvision.datasets import MNIST"
   ]
  },
  {
   "cell_type": "code",
   "execution_count": 2,
   "id": "133ec899",
   "metadata": {},
   "outputs": [
    {
     "name": "stdout",
     "output_type": "stream",
     "text": [
      "Downloading http://yann.lecun.com/exdb/mnist/train-images-idx3-ubyte.gz\n",
      "Downloading http://yann.lecun.com/exdb/mnist/train-images-idx3-ubyte.gz to data/MNIST\\raw\\train-images-idx3-ubyte.gz\n"
     ]
    },
    {
     "data": {
      "application/vnd.jupyter.widget-view+json": {
       "model_id": "d3e479aafabc4bcbab35d48b2623f047",
       "version_major": 2,
       "version_minor": 0
      },
      "text/plain": [
       "  0%|          | 0/9912422 [00:00<?, ?it/s]"
      ]
     },
     "metadata": {},
     "output_type": "display_data"
    },
    {
     "name": "stdout",
     "output_type": "stream",
     "text": [
      "Extracting data/MNIST\\raw\\train-images-idx3-ubyte.gz to data/MNIST\\raw\n",
      "\n",
      "Downloading http://yann.lecun.com/exdb/mnist/train-labels-idx1-ubyte.gz\n",
      "Downloading http://yann.lecun.com/exdb/mnist/train-labels-idx1-ubyte.gz to data/MNIST\\raw\\train-labels-idx1-ubyte.gz\n"
     ]
    },
    {
     "data": {
      "application/vnd.jupyter.widget-view+json": {
       "model_id": "005959d41b104896bf21ed768b923e78",
       "version_major": 2,
       "version_minor": 0
      },
      "text/plain": [
       "  0%|          | 0/28881 [00:00<?, ?it/s]"
      ]
     },
     "metadata": {},
     "output_type": "display_data"
    },
    {
     "name": "stdout",
     "output_type": "stream",
     "text": [
      "Extracting data/MNIST\\raw\\train-labels-idx1-ubyte.gz to data/MNIST\\raw\n",
      "\n",
      "Downloading http://yann.lecun.com/exdb/mnist/t10k-images-idx3-ubyte.gz\n",
      "Downloading http://yann.lecun.com/exdb/mnist/t10k-images-idx3-ubyte.gz to data/MNIST\\raw\\t10k-images-idx3-ubyte.gz\n"
     ]
    },
    {
     "data": {
      "application/vnd.jupyter.widget-view+json": {
       "model_id": "54957b09e1614caf8b86e9064d728d58",
       "version_major": 2,
       "version_minor": 0
      },
      "text/plain": [
       "  0%|          | 0/1648877 [00:00<?, ?it/s]"
      ]
     },
     "metadata": {},
     "output_type": "display_data"
    },
    {
     "name": "stdout",
     "output_type": "stream",
     "text": [
      "Extracting data/MNIST\\raw\\t10k-images-idx3-ubyte.gz to data/MNIST\\raw\n",
      "\n",
      "Downloading http://yann.lecun.com/exdb/mnist/t10k-labels-idx1-ubyte.gz\n",
      "Downloading http://yann.lecun.com/exdb/mnist/t10k-labels-idx1-ubyte.gz to data/MNIST\\raw\\t10k-labels-idx1-ubyte.gz\n"
     ]
    },
    {
     "data": {
      "application/vnd.jupyter.widget-view+json": {
       "model_id": "1824b159e26a495ab522188d5d757acc",
       "version_major": 2,
       "version_minor": 0
      },
      "text/plain": [
       "  0%|          | 0/4542 [00:00<?, ?it/s]"
      ]
     },
     "metadata": {},
     "output_type": "display_data"
    },
    {
     "name": "stdout",
     "output_type": "stream",
     "text": [
      "Extracting data/MNIST\\raw\\t10k-labels-idx1-ubyte.gz to data/MNIST\\raw\n",
      "\n"
     ]
    }
   ],
   "source": [
    "#Download training datasets\n",
    "dataset = MNIST(root='data/', download=True)"
   ]
  },
  {
   "cell_type": "code",
   "execution_count": 3,
   "id": "853fc9c4",
   "metadata": {},
   "outputs": [
    {
     "data": {
      "text/plain": [
       "Dataset MNIST\n",
       "    Number of datapoints: 60000\n",
       "    Root location: data/\n",
       "    Split: Train"
      ]
     },
     "execution_count": 3,
     "metadata": {},
     "output_type": "execute_result"
    }
   ],
   "source": [
    "dataset"
   ]
  },
  {
   "cell_type": "code",
   "execution_count": 4,
   "id": "4d05d61b",
   "metadata": {},
   "outputs": [
    {
     "data": {
      "text/plain": [
       "60000"
      ]
     },
     "execution_count": 4,
     "metadata": {},
     "output_type": "execute_result"
    }
   ],
   "source": [
    "len(dataset)"
   ]
  },
  {
   "cell_type": "code",
   "execution_count": 5,
   "id": "1d2c38b3",
   "metadata": {},
   "outputs": [
    {
     "data": {
      "text/plain": [
       "10000"
      ]
     },
     "execution_count": 5,
     "metadata": {},
     "output_type": "execute_result"
    }
   ],
   "source": [
    "# Getting the test dataset:\n",
    "test_dataset = MNIST(root='data/', train=False)\n",
    "len(test_dataset)"
   ]
  },
  {
   "cell_type": "code",
   "execution_count": 6,
   "id": "dc9a35a9",
   "metadata": {},
   "outputs": [
    {
     "data": {
      "text/plain": [
       "(<PIL.Image.Image image mode=L size=28x28 at 0x1F36FD2DCA0>, 1)"
      ]
     },
     "execution_count": 6,
     "metadata": {},
     "output_type": "execute_result"
    }
   ],
   "source": [
    "dataset[6]"
   ]
  },
  {
   "cell_type": "code",
   "execution_count": 8,
   "id": "98933e5f",
   "metadata": {},
   "outputs": [
    {
     "name": "stdout",
     "output_type": "stream",
     "text": [
      "Label: 1\n"
     ]
    },
    {
     "data": {
      "image/png": "[encoded data removed]",
      "text/plain": [
       "<Figure size 432x288 with 1 Axes>"
      ]
     },
     "metadata": {
      "needs_background": "light"
     },
     "output_type": "display_data"
    }
   ],
   "source": [
    "import matplotlib.pyplot as plt\n",
    "\n",
    "image, label = dataset[6]\n",
    "plt.imshow(image, cmap='gray')\n",
    "print('Label:', label)"
   ]
  },
  {
   "cell_type": "markdown",
   "id": "3cbe450a",
   "metadata": {},
   "source": [
    "### Converting images to tensor:"
   ]
  },
  {
   "cell_type": "code",
   "execution_count": 9,
   "id": "afbad012",
   "metadata": {},
   "outputs": [],
   "source": [
    "import torchvision.transforms as transforms"
   ]
  },
  {
   "cell_type": "code",
   "execution_count": 10,
   "id": "41e4cdc2",
   "metadata": {},
   "outputs": [],
   "source": [
    "dataset = MNIST(root='data/', train=True, transform=transforms.ToTensor())"
   ]
  },
  {
   "cell_type": "code",
   "execution_count": 12,
   "id": "89557905",
   "metadata": {},
   "outputs": [
    {
     "name": "stdout",
     "output_type": "stream",
     "text": [
      "torch.Size([1, 28, 28]) 1\n"
     ]
    }
   ],
   "source": [
    "img_tensor, label = dataset[6]\n",
    "print(img_tensor.shape, label)"
   ]
  },
  {
   "cell_type": "markdown",
   "id": "234e735c",
   "metadata": {},
   "source": [
    "### Splitting into training and validation set:"
   ]
  },
  {
   "cell_type": "code",
   "execution_count": 14,
   "id": "fbfe04d0",
   "metadata": {},
   "outputs": [
    {
     "name": "stdout",
     "output_type": "stream",
     "text": [
      "50000\n",
      "10000\n"
     ]
    }
   ],
   "source": [
    "from torch.utils.data import random_split\n",
    "\n",
    "train_ds, val_ds = random_split(dataset, [50000, 10000])\n",
    "print(len(train_ds))\n",
    "print(len(val_ds))"
   ]
  },
  {
   "cell_type": "code",
   "execution_count": 15,
   "id": "e26f06cf",
   "metadata": {},
   "outputs": [],
   "source": [
    "from torch.utils.data import DataLoader\n",
    "\n",
    "batch_size = 128\n",
    "train_loader = DataLoader(train_ds, batch_size, shuffle=True)\n",
    "val_loader = DataLoader(val_ds, batch_size)"
   ]
  },
  {
   "cell_type": "markdown",
   "id": "0d469c04",
   "metadata": {},
   "source": [
    "## Logistics Model:"
   ]
  },
  {
   "cell_type": "code",
   "execution_count": 16,
   "id": "33446c63",
   "metadata": {},
   "outputs": [],
   "source": [
    "import torch.nn as nn\n",
    "\n",
    "input_size = 28*28\n",
    "num_classes = 10\n",
    "\n",
    "# Logistic regression model\n",
    "model = nn.Linear(input_size, num_classes)"
   ]
  },
  {
   "cell_type": "code",
   "execution_count": 17,
   "id": "af5e97d4",
   "metadata": {},
   "outputs": [
    {
     "name": "stdout",
     "output_type": "stream",
     "text": [
      "torch.Size([10, 784])\n"
     ]
    },
    {
     "data": {
      "text/plain": [
       "Parameter containing:\n",
       "tensor([[-0.0278, -0.0049,  0.0194,  ..., -0.0269, -0.0061, -0.0343],\n",
       "        [-0.0182, -0.0277,  0.0290,  ..., -0.0029,  0.0130,  0.0065],\n",
       "        [ 0.0339,  0.0304,  0.0195,  ..., -0.0312,  0.0119, -0.0038],\n",
       "        ...,\n",
       "        [-0.0309,  0.0295, -0.0229,  ..., -0.0108, -0.0268,  0.0045],\n",
       "        [-0.0039,  0.0267,  0.0294,  ...,  0.0034,  0.0223, -0.0200],\n",
       "        [ 0.0054,  0.0319,  0.0078,  ..., -0.0331, -0.0151, -0.0072]],\n",
       "       requires_grad=True)"
      ]
     },
     "execution_count": 17,
     "metadata": {},
     "output_type": "execute_result"
    }
   ],
   "source": [
    "print(model.weight.shape)\n",
    "model.weight"
   ]
  },
  {
   "cell_type": "code",
   "execution_count": 18,
   "id": "a30e2284",
   "metadata": {},
   "outputs": [
    {
     "name": "stdout",
     "output_type": "stream",
     "text": [
      "torch.Size([10])\n"
     ]
    },
    {
     "data": {
      "text/plain": [
       "Parameter containing:\n",
       "tensor([ 0.0058, -0.0066, -0.0031,  0.0013, -0.0109, -0.0231,  0.0181,  0.0177,\n",
       "        -0.0345, -0.0328], requires_grad=True)"
      ]
     },
     "execution_count": 18,
     "metadata": {},
     "output_type": "execute_result"
    }
   ],
   "source": [
    "print(model.bias.shape)\n",
    "model.bias"
   ]
  },
  {
   "cell_type": "code",
   "execution_count": 19,
   "id": "e13dd069",
   "metadata": {},
   "outputs": [],
   "source": [
    "class MnistModel(nn.Module):\n",
    "    def __init__(self):\n",
    "        super().__init__()\n",
    "        self.linear = nn.Linear(input_size, num_classes)\n",
    "        \n",
    "    def forward(self, xb):\n",
    "        xb = xb.reshape(-1, 784)\n",
    "        out = self.linear(xb)\n",
    "        return out\n",
    "    \n",
    "model = MnistModel()"
   ]
  },
  {
   "cell_type": "code",
   "execution_count": 21,
   "id": "0a2e190c",
   "metadata": {},
   "outputs": [
    {
     "name": "stdout",
     "output_type": "stream",
     "text": [
      "torch.Size([128, 1, 28, 28])\n",
      "outputs.shape :  torch.Size([128, 10])\n",
      "Sample outputs :\n",
      " tensor([[ 1.9933e-01,  9.7561e-02, -5.1575e-02,  2.3070e-01, -1.2292e-02,\n",
      "          3.6704e-01, -8.9957e-02,  2.6699e-02,  4.4462e-02,  1.3531e-01],\n",
      "        [ 9.5959e-02,  1.3445e-01,  9.3047e-02,  7.8011e-02, -1.9961e-01,\n",
      "         -6.9659e-05,  1.0537e-02,  1.1045e-01,  2.5615e-01,  1.3846e-01]])\n"
     ]
    }
   ],
   "source": [
    "for images, labels in train_loader:\n",
    "    print(images.shape)\n",
    "    outputs = model(images)\n",
    "    break\n",
    "\n",
    "print('outputs.shape : ', outputs.shape)\n",
    "print('Sample outputs :\\n', outputs[:2].data)"
   ]
  },
  {
   "cell_type": "markdown",
   "id": "9abc28ad",
   "metadata": {},
   "source": [
    "### Applying the softmax function:"
   ]
  },
  {
   "cell_type": "code",
   "execution_count": 22,
   "id": "67d25d69",
   "metadata": {},
   "outputs": [],
   "source": [
    "import torch.nn.functional as F"
   ]
  },
  {
   "cell_type": "code",
   "execution_count": 23,
   "id": "ef594eb2",
   "metadata": {},
   "outputs": [
    {
     "data": {
      "text/plain": [
       "tensor([[ 1.9933e-01,  9.7561e-02, -5.1575e-02,  2.3070e-01, -1.2292e-02,\n",
       "          3.6704e-01, -8.9957e-02,  2.6699e-02,  4.4462e-02,  1.3531e-01],\n",
       "        [ 9.5959e-02,  1.3445e-01,  9.3047e-02,  7.8011e-02, -1.9961e-01,\n",
       "         -6.9659e-05,  1.0537e-02,  1.1045e-01,  2.5615e-01,  1.3846e-01]],\n",
       "       grad_fn=<SliceBackward0>)"
      ]
     },
     "execution_count": 23,
     "metadata": {},
     "output_type": "execute_result"
    }
   ],
   "source": [
    "outputs[:2]"
   ]
  },
  {
   "cell_type": "code",
   "execution_count": 24,
   "id": "349ac216",
   "metadata": {},
   "outputs": [
    {
     "name": "stdout",
     "output_type": "stream",
     "text": [
      "Sample probabilities:\n",
      " tensor([[0.1100, 0.0994, 0.0856, 0.1135, 0.0890, 0.1301, 0.0824, 0.0926, 0.0942,\n",
      "         0.1032],\n",
      "        [0.1018, 0.1058, 0.1015, 0.1000, 0.0758, 0.0925, 0.0935, 0.1033, 0.1195,\n",
      "         0.1062]])\n",
      "Sum:  1.0\n"
     ]
    }
   ],
   "source": [
    "# Apply softmax for each output row\n",
    "probs = F.softmax(outputs, dim=1)\n",
    "\n",
    "# Look at sample probabilities\n",
    "print(\"Sample probabilities:\\n\", probs[:2].data)\n",
    "\n",
    "# Add up the probabilities of an output row\n",
    "print(\"Sum: \", torch.sum(probs[0]).item())"
   ]
  },
  {
   "cell_type": "code",
   "execution_count": 25,
   "id": "3dbd2cba",
   "metadata": {},
   "outputs": [
    {
     "name": "stdout",
     "output_type": "stream",
     "text": [
      "tensor([5, 8, 3, 3, 1, 1, 3, 3, 1, 1, 9, 5, 9, 9, 7, 3, 5, 6, 9, 1, 3, 3, 3, 4,\n",
      "        0, 5, 1, 3, 3, 8, 3, 0, 9, 9, 1, 5, 9, 6, 9, 0, 3, 5, 3, 6, 9, 1, 0, 8,\n",
      "        3, 0, 3, 9, 2, 5, 1, 3, 0, 6, 3, 5, 0, 2, 5, 0, 1, 3, 0, 3, 5, 9, 0, 9,\n",
      "        1, 2, 1, 0, 0, 5, 5, 5, 0, 5, 0, 3, 3, 5, 5, 3, 5, 9, 9, 9, 3, 1, 1, 6,\n",
      "        9, 0, 8, 3, 9, 8, 1, 5, 3, 3, 0, 3, 0, 8, 0, 5, 2, 5, 5, 9, 3, 8, 9, 5,\n",
      "        9, 3, 9, 3, 9, 3, 3, 9])\n",
      "tensor([0.1301, 0.1195, 0.1313, 0.1331, 0.1295, 0.1166, 0.1179, 0.1381, 0.1332,\n",
      "        0.1120, 0.1244, 0.1328, 0.1170, 0.1344, 0.1238, 0.1252, 0.1391, 0.1228,\n",
      "        0.1221, 0.1216, 0.1368, 0.1365, 0.1190, 0.1276, 0.1239, 0.1309, 0.1151,\n",
      "        0.1115, 0.1292, 0.1240, 0.1397, 0.1284, 0.1461, 0.1343, 0.1184, 0.1334,\n",
      "        0.1184, 0.1205, 0.1205, 0.1326, 0.1492, 0.1346, 0.1245, 0.1224, 0.1185,\n",
      "        0.1195, 0.1198, 0.1093, 0.1510, 0.1392, 0.1407, 0.1243, 0.1199, 0.1213,\n",
      "        0.1241, 0.1594, 0.1464, 0.1134, 0.1410, 0.1229, 0.1273, 0.1391, 0.1207,\n",
      "        0.1217, 0.1292, 0.1176, 0.1267, 0.1300, 0.1242, 0.1249, 0.1555, 0.1210,\n",
      "        0.1212, 0.1156, 0.1262, 0.1189, 0.1196, 0.1224, 0.1233, 0.1353, 0.1509,\n",
      "        0.1275, 0.1217, 0.1278, 0.1354, 0.1330, 0.1328, 0.1163, 0.1176, 0.1257,\n",
      "        0.1172, 0.1260, 0.1299, 0.1303, 0.1293, 0.1134, 0.1225, 0.1341, 0.1174,\n",
      "        0.1211, 0.1290, 0.1397, 0.1140, 0.1208, 0.1394, 0.1510, 0.1193, 0.1227,\n",
      "        0.1332, 0.1087, 0.1320, 0.1291, 0.1204, 0.1277, 0.1247, 0.1211, 0.1358,\n",
      "        0.1199, 0.1212, 0.1304, 0.1180, 0.1510, 0.1250, 0.1362, 0.1295, 0.1201,\n",
      "        0.1404, 0.1186], grad_fn=<MaxBackward0>)\n"
     ]
    }
   ],
   "source": [
    "max_probs, preds = torch.max(probs, dim=1)\n",
    "print(preds)\n",
    "print(max_probs)"
   ]
  },
  {
   "cell_type": "code",
   "execution_count": 26,
   "id": "303ee612",
   "metadata": {},
   "outputs": [
    {
     "data": {
      "text/plain": [
       "tensor([3, 3, 2, 3, 2, 4, 9, 9, 6, 5, 0, 8, 1, 8, 5, 3, 2, 1, 6, 2, 6, 6, 0, 7,\n",
       "        3, 0, 1, 9, 8, 9, 6, 2, 7, 3, 5, 6, 8, 1, 8, 3, 2, 0, 7, 1, 1, 3, 8, 1,\n",
       "        2, 2, 2, 1, 3, 2, 6, 6, 5, 1, 0, 8, 2, 8, 4, 4, 4, 6, 4, 4, 8, 6, 5, 9,\n",
       "        6, 3, 6, 8, 4, 9, 4, 9, 9, 7, 9, 6, 5, 0, 3, 7, 9, 8, 1, 4, 6, 4, 8, 1,\n",
       "        8, 3, 7, 7, 6, 9, 5, 2, 5, 4, 0, 9, 0, 8, 8, 4, 2, 0, 3, 7, 0, 4, 7, 0,\n",
       "        3, 2, 9, 2, 1, 9, 2, 1])"
      ]
     },
     "execution_count": 26,
     "metadata": {},
     "output_type": "execute_result"
    }
   ],
   "source": [
    "labels"
   ]
  },
  {
   "cell_type": "markdown",
   "id": "0529c4c1",
   "metadata": {},
   "source": [
    "### Evaluation Metrics and Loss Function:"
   ]
  },
  {
   "cell_type": "code",
   "execution_count": 27,
   "id": "f931dc8f",
   "metadata": {},
   "outputs": [
    {
     "data": {
      "text/plain": [
       "tensor(9)"
      ]
     },
     "execution_count": 27,
     "metadata": {},
     "output_type": "execute_result"
    }
   ],
   "source": [
    "torch.sum(preds == labels)"
   ]
  },
  {
   "cell_type": "code",
   "execution_count": 28,
   "id": "39473ca2",
   "metadata": {},
   "outputs": [],
   "source": [
    "def accuracy(outputs, labels):\n",
    "    _, preds = torch.max(outputs, dim=1)\n",
    "    return torch.tensor(torch.sum(preds == labels).item() / len(preds))"
   ]
  },
  {
   "cell_type": "code",
   "execution_count": 29,
   "id": "6ff489f5",
   "metadata": {},
   "outputs": [
    {
     "data": {
      "text/plain": [
       "tensor(0.0703)"
      ]
     },
     "execution_count": 29,
     "metadata": {},
     "output_type": "execute_result"
    }
   ],
   "source": [
    "accuracy(outputs, labels)"
   ]
  },
  {
   "cell_type": "code",
   "execution_count": 30,
   "id": "aa58faea",
   "metadata": {},
   "outputs": [],
   "source": [
    "loss_fn = F.cross_entropy"
   ]
  },
  {
   "cell_type": "code",
   "execution_count": 31,
   "id": "a6476b4e",
   "metadata": {},
   "outputs": [
    {
     "name": "stdout",
     "output_type": "stream",
     "text": [
      "tensor(2.3297, grad_fn=<NllLossBackward0>)\n"
     ]
    }
   ],
   "source": [
    "# Loss for current batch of data\n",
    "loss = loss_fn(outputs, labels)\n",
    "print(loss)"
   ]
  },
  {
   "cell_type": "markdown",
   "id": "bf710674",
   "metadata": {},
   "source": [
    "Training the model\n",
    "Now that we have defined the data loaders, model, loss function and optimizer, we are ready to train the model. The training process is identical to linear regression, with the addition of a \"validation phase\" to evaluate the model in each epoch. Here's what it looks like in pseudocode:\n",
    "\n",
    "for epoch in range(num_epochs):\n",
    "    # Training phase\n",
    "    for batch in train_loader:\n",
    "        # Generate predictions\n",
    "        # Calculate loss\n",
    "        # Compute gradients\n",
    "        # Update weights\n",
    "        # Reset gradients\n",
    "    \n",
    "    # Validation phase\n",
    "    for batch in val_loader:\n",
    "        # Generate predictions\n",
    "        # Calculate loss\n",
    "        # Calculate metrics (accuracy etc.)\n",
    "    # Calculate average validation loss & metrics\n",
    "    \n",
    "    # Log epoch, loss & metrics for inspection"
   ]
  },
  {
   "cell_type": "code",
   "execution_count": 32,
   "id": "db9deaab",
   "metadata": {},
   "outputs": [],
   "source": [
    "class MnistModel(nn.Module):\n",
    "    def __init__(self):\n",
    "        super().__init__()\n",
    "        self.linear = nn.Linear(input_size, num_classes)\n",
    "        \n",
    "    def forward(self, xb):\n",
    "        xb = xb.reshape(-1, 784)\n",
    "        out = self.linear(xb)\n",
    "        return out\n",
    "    \n",
    "    def training_step(self, batch):\n",
    "        images, labels = batch \n",
    "        out = self(images)                  # Generate predictions\n",
    "        loss = F.cross_entropy(out, labels) # Calculate loss\n",
    "        return loss\n",
    "    \n",
    "    def validation_step(self, batch):\n",
    "        images, labels = batch \n",
    "        out = self(images)                    # Generate predictions\n",
    "        loss = F.cross_entropy(out, labels)   # Calculate loss\n",
    "        acc = accuracy(out, labels)           # Calculate accuracy\n",
    "        return {'val_loss': loss, 'val_acc': acc}\n",
    "        \n",
    "    def validation_epoch_end(self, outputs):\n",
    "        batch_losses = [x['val_loss'] for x in outputs]\n",
    "        epoch_loss = torch.stack(batch_losses).mean()   # Combine losses\n",
    "        batch_accs = [x['val_acc'] for x in outputs]\n",
    "        epoch_acc = torch.stack(batch_accs).mean()      # Combine accuracies\n",
    "        return {'val_loss': epoch_loss.item(), 'val_acc': epoch_acc.item()}\n",
    "    \n",
    "    def epoch_end(self, epoch, result):\n",
    "        print(\"Epoch [{}], val_loss: {:.4f}, val_acc: {:.4f}\".format(epoch, result['val_loss'], result['val_acc']))\n",
    "    \n",
    "model = MnistModel()"
   ]
  },
  {
   "cell_type": "code",
   "execution_count": 33,
   "id": "454a0625",
   "metadata": {},
   "outputs": [],
   "source": [
    "def evaluate(model, val_loader):\n",
    "    outputs = [model.validation_step(batch) for batch in val_loader]\n",
    "    return model.validation_epoch_end(outputs)\n",
    "\n",
    "def fit(epochs, lr, model, train_loader, val_loader, opt_func=torch.optim.SGD):\n",
    "    optimizer = opt_func(model.parameters(), lr)\n",
    "    history = [] # for recording epoch-wise results\n",
    "    \n",
    "    for epoch in range(epochs):\n",
    "        \n",
    "        # Training Phase \n",
    "        for batch in train_loader:\n",
    "            loss = model.training_step(batch)\n",
    "            loss.backward()\n",
    "            optimizer.step()\n",
    "            optimizer.zero_grad()\n",
    "        \n",
    "        # Validation phase\n",
    "        result = evaluate(model, val_loader)\n",
    "        model.epoch_end(epoch, result)\n",
    "        history.append(result)\n",
    "\n",
    "    return history"
   ]
  },
  {
   "cell_type": "code",
   "execution_count": 34,
   "id": "a1768c60",
   "metadata": {},
   "outputs": [
    {
     "data": {
      "text/plain": [
       "{'val_loss': 2.3272953033447266, 'val_acc': 0.09266218543052673}"
      ]
     },
     "execution_count": 34,
     "metadata": {},
     "output_type": "execute_result"
    }
   ],
   "source": [
    "result0 = evaluate(model, val_loader)\n",
    "result0"
   ]
  },
  {
   "cell_type": "code",
   "execution_count": 35,
   "id": "d9af5653",
   "metadata": {},
   "outputs": [
    {
     "name": "stdout",
     "output_type": "stream",
     "text": [
      "Epoch [0], val_loss: 1.9600, val_acc: 0.5863\n",
      "Epoch [1], val_loss: 1.6878, val_acc: 0.7163\n",
      "Epoch [2], val_loss: 1.4844, val_acc: 0.7594\n",
      "Epoch [3], val_loss: 1.3310, val_acc: 0.7831\n",
      "Epoch [4], val_loss: 1.2133, val_acc: 0.7977\n"
     ]
    }
   ],
   "source": [
    "history1 = fit(5, 0.001, model, train_loader, val_loader)"
   ]
  },
  {
   "cell_type": "code",
   "execution_count": 36,
   "id": "02dc3688",
   "metadata": {},
   "outputs": [
    {
     "name": "stdout",
     "output_type": "stream",
     "text": [
      "Epoch [0], val_loss: 1.1211, val_acc: 0.8068\n",
      "Epoch [1], val_loss: 1.0471, val_acc: 0.8146\n",
      "Epoch [2], val_loss: 0.9868, val_acc: 0.8220\n",
      "Epoch [3], val_loss: 0.9366, val_acc: 0.8254\n",
      "Epoch [4], val_loss: 0.8942, val_acc: 0.8295\n"
     ]
    }
   ],
   "source": [
    "history2 = fit(5, 0.001, model, train_loader, val_loader)"
   ]
  },
  {
   "cell_type": "code",
   "execution_count": 37,
   "id": "2580be52",
   "metadata": {},
   "outputs": [
    {
     "name": "stdout",
     "output_type": "stream",
     "text": [
      "Epoch [0], val_loss: 0.8579, val_acc: 0.8326\n",
      "Epoch [1], val_loss: 0.8265, val_acc: 0.8358\n",
      "Epoch [2], val_loss: 0.7991, val_acc: 0.8392\n",
      "Epoch [3], val_loss: 0.7748, val_acc: 0.8419\n",
      "Epoch [4], val_loss: 0.7532, val_acc: 0.8438\n"
     ]
    }
   ],
   "source": [
    "history3 = fit(5, 0.001, model, train_loader, val_loader)"
   ]
  },
  {
   "cell_type": "code",
   "execution_count": 38,
   "id": "588f187f",
   "metadata": {},
   "outputs": [
    {
     "name": "stdout",
     "output_type": "stream",
     "text": [
      "Epoch [0], val_loss: 0.7339, val_acc: 0.8454\n",
      "Epoch [1], val_loss: 0.7165, val_acc: 0.8469\n",
      "Epoch [2], val_loss: 0.7006, val_acc: 0.8484\n",
      "Epoch [3], val_loss: 0.6862, val_acc: 0.8505\n",
      "Epoch [4], val_loss: 0.6729, val_acc: 0.8516\n"
     ]
    }
   ],
   "source": [
    "history4 = fit(5, 0.001, model, train_loader, val_loader)"
   ]
  },
  {
   "cell_type": "code",
   "execution_count": 39,
   "id": "ea40b110",
   "metadata": {},
   "outputs": [
    {
     "data": {
      "image/png": "[encoded data removed]",
      "text/plain": [
       "<Figure size 432x288 with 1 Axes>"
      ]
     },
     "metadata": {
      "needs_background": "light"
     },
     "output_type": "display_data"
    }
   ],
   "source": [
    "history = [result0] + history1 + history2 + history3 + history4\n",
    "accuracies = [result['val_acc'] for result in history]\n",
    "plt.plot(accuracies, '-x')\n",
    "plt.xlabel('epoch')\n",
    "plt.ylabel('accuracy')\n",
    "plt.title('Accuracy vs. No. of epochs');"
   ]
  },
  {
   "cell_type": "markdown",
   "id": "2daff68d",
   "metadata": {},
   "source": [
    "### Testing with Individual images:"
   ]
  },
  {
   "cell_type": "code",
   "execution_count": 40,
   "id": "6a973daf",
   "metadata": {},
   "outputs": [
    {
     "data": {
      "text/plain": [
       "10000"
      ]
     },
     "execution_count": 40,
     "metadata": {},
     "output_type": "execute_result"
    }
   ],
   "source": [
    "test_dataset = MNIST(root='data/', train=False, transform=transforms.ToTensor())\n",
    "len(test_dataset)"
   ]
  },
  {
   "cell_type": "code",
   "execution_count": 43,
   "id": "b42e9a43",
   "metadata": {},
   "outputs": [
    {
     "name": "stdout",
     "output_type": "stream",
     "text": [
      "torch.Size([1, 28, 28])\n",
      "7\n"
     ]
    },
    {
     "data": {
      "image/png": "[encoded data removed]",
      "text/plain": [
       "<Figure size 432x288 with 1 Axes>"
      ]
     },
     "metadata": {
      "needs_background": "light"
     },
     "output_type": "display_data"
    }
   ],
   "source": [
    "img_tensor, label = test_dataset[0]\n",
    "plt.imshow(img_tensor[0], cmap='gray')\n",
    "print(img_tensor.shape)\n",
    "print(label)"
   ]
  },
  {
   "cell_type": "code",
   "execution_count": 44,
   "id": "a8e27e8c",
   "metadata": {},
   "outputs": [],
   "source": [
    "def predict_image(img, model):\n",
    "    xb = img.unsqueeze(0)\n",
    "    yb = model(xb)\n",
    "    _, preds = torch.max(yb, dim=1)\n",
    "    return preds[0].item()"
   ]
  },
  {
   "cell_type": "code",
   "execution_count": 45,
   "id": "1df51134",
   "metadata": {},
   "outputs": [
    {
     "name": "stdout",
     "output_type": "stream",
     "text": [
      "Label: 7 , Predicted: 7\n"
     ]
    },
    {
     "data": {
      "image/png": "[encoded data removed]",
      "text/plain": [
       "<Figure size 432x288 with 1 Axes>"
      ]
     },
     "metadata": {
      "needs_background": "light"
     },
     "output_type": "display_data"
    }
   ],
   "source": [
    "img, label = test_dataset[0]\n",
    "plt.imshow(img[0], cmap='gray')\n",
    "print('Label:', label, ', Predicted:', predict_image(img, model))"
   ]
  },
  {
   "cell_type": "code",
   "execution_count": 46,
   "id": "f63a70b7",
   "metadata": {},
   "outputs": [
    {
     "name": "stdout",
     "output_type": "stream",
     "text": [
      "Label: 0 , Predicted: 0\n"
     ]
    },
    {
     "data": {
      "image/png": "[encoded data removed]",
      "text/plain": [
       "<Figure size 432x288 with 1 Axes>"
      ]
     },
     "metadata": {
      "needs_background": "light"
     },
     "output_type": "display_data"
    }
   ],
   "source": [
    "img, label = test_dataset[10]\n",
    "plt.imshow(img[0], cmap='gray')\n",
    "print('Label:', label, ', Predicted:', predict_image(img, model))"
   ]
  },
  {
   "cell_type": "code",
   "execution_count": 47,
   "id": "8269494f",
   "metadata": {},
   "outputs": [
    {
     "name": "stdout",
     "output_type": "stream",
     "text": [
      "Label: 9 , Predicted: 9\n"
     ]
    },
    {
     "data": {
      "image/png": "[encoded data removed]",
      "text/plain": [
       "<Figure size 432x288 with 1 Axes>"
      ]
     },
     "metadata": {
      "needs_background": "light"
     },
     "output_type": "display_data"
    }
   ],
   "source": [
    "img, label = test_dataset[193]\n",
    "plt.imshow(img[0], cmap='gray')\n",
    "print('Label:', label, ', Predicted:', predict_image(img, model))"
   ]
  },
  {
   "cell_type": "code",
   "execution_count": 48,
   "id": "78971105",
   "metadata": {},
   "outputs": [
    {
     "name": "stdout",
     "output_type": "stream",
     "text": [
      "Label: 6 , Predicted: 6\n"
     ]
    },
    {
     "data": {
      "image/png": "[encoded data removed]",
      "text/plain": [
       "<Figure size 432x288 with 1 Axes>"
      ]
     },
     "metadata": {
      "needs_background": "light"
     },
     "output_type": "display_data"
    }
   ],
   "source": [
    "img, label = test_dataset[1831]\n",
    "plt.imshow(img[0], cmap='gray')\n",
    "print('Label:', label, ', Predicted:', predict_image(img, model))"
   ]
  },
  {
   "cell_type": "code",
   "execution_count": 49,
   "id": "361d2ca5",
   "metadata": {},
   "outputs": [
    {
     "data": {
      "text/plain": [
       "{'val_loss': 0.6427549123764038, 'val_acc': 0.859375}"
      ]
     },
     "execution_count": 49,
     "metadata": {},
     "output_type": "execute_result"
    }
   ],
   "source": [
    "test_loader = DataLoader(test_dataset, batch_size=256)\n",
    "result = evaluate(model, test_loader)\n",
    "result"
   ]
  },
  {
   "cell_type": "markdown",
   "id": "b0b97b65",
   "metadata": {},
   "source": [
    "### Saving your model values(weights and bias):"
   ]
  },
  {
   "cell_type": "code",
   "execution_count": 51,
   "id": "67e24966",
   "metadata": {},
   "outputs": [],
   "source": [
    "torch.save(model.state_dict(), 'mnist-logistic.pth')"
   ]
  },
  {
   "cell_type": "code",
   "execution_count": 52,
   "id": "4ba40f7a",
   "metadata": {},
   "outputs": [
    {
     "data": {
      "text/plain": [
       "OrderedDict([('linear.weight',\n",
       "              tensor([[-0.0031,  0.0112, -0.0306,  ..., -0.0084,  0.0246,  0.0200],\n",
       "                      [-0.0239, -0.0174, -0.0248,  ..., -0.0340, -0.0094, -0.0195],\n",
       "                      [ 0.0073,  0.0117,  0.0351,  ...,  0.0173, -0.0027, -0.0084],\n",
       "                      ...,\n",
       "                      [-0.0211,  0.0105, -0.0247,  ..., -0.0287,  0.0246, -0.0083],\n",
       "                      [-0.0160,  0.0169,  0.0074,  ..., -0.0029,  0.0346,  0.0031],\n",
       "                      [-0.0147, -0.0253,  0.0062,  ...,  0.0282, -0.0154, -0.0273]])),\n",
       "             ('linear.bias',\n",
       "              tensor([-0.0592,  0.1094, -0.0372, -0.0479,  0.0558,  0.0364,  0.0257,  0.0569,\n",
       "                      -0.0903, -0.0054]))])"
      ]
     },
     "execution_count": 52,
     "metadata": {},
     "output_type": "execute_result"
    }
   ],
   "source": [
    "model.state_dict()"
   ]
  },
  {
   "cell_type": "markdown",
   "id": "b4beb276",
   "metadata": {},
   "source": [
    "### loading your saved model values:"
   ]
  },
  {
   "cell_type": "code",
   "execution_count": 53,
   "id": "66332957",
   "metadata": {},
   "outputs": [],
   "source": [
    "model2 = MnistModel()"
   ]
  },
  {
   "cell_type": "code",
   "execution_count": 55,
   "id": "87a8ea4b",
   "metadata": {},
   "outputs": [
    {
     "data": {
      "text/plain": [
       "OrderedDict([('linear.weight',\n",
       "              tensor([[-0.0031,  0.0112, -0.0306,  ..., -0.0084,  0.0246,  0.0200],\n",
       "                      [-0.0239, -0.0174, -0.0248,  ..., -0.0340, -0.0094, -0.0195],\n",
       "                      [ 0.0073,  0.0117,  0.0351,  ...,  0.0173, -0.0027, -0.0084],\n",
       "                      ...,\n",
       "                      [-0.0211,  0.0105, -0.0247,  ..., -0.0287,  0.0246, -0.0083],\n",
       "                      [-0.0160,  0.0169,  0.0074,  ..., -0.0029,  0.0346,  0.0031],\n",
       "                      [-0.0147, -0.0253,  0.0062,  ...,  0.0282, -0.0154, -0.0273]])),\n",
       "             ('linear.bias',\n",
       "              tensor([-0.0592,  0.1094, -0.0372, -0.0479,  0.0558,  0.0364,  0.0257,  0.0569,\n",
       "                      -0.0903, -0.0054]))])"
      ]
     },
     "execution_count": 55,
     "metadata": {},
     "output_type": "execute_result"
    }
   ],
   "source": [
    "model2.load_state_dict(torch.load('mnist-logistic.pth'))\n",
    "model2.state_dict()"
   ]
  },
  {
   "cell_type": "code",
   "execution_count": 56,
   "id": "af46a4b4",
   "metadata": {},
   "outputs": [
    {
     "data": {
      "text/plain": [
       "{'val_loss': 0.6427549123764038, 'val_acc': 0.859375}"
      ]
     },
     "execution_count": 56,
     "metadata": {},
     "output_type": "execute_result"
    }
   ],
   "source": [
    "test_loader = DataLoader(test_dataset, batch_size=256)\n",
    "result = evaluate(model2, test_loader)\n",
    "result"
   ]
  },
  {
   "cell_type": "code",
   "execution_count": null,
   "id": "a8b10aa3",
   "metadata": {},
   "outputs": [],
   "source": []
  }
 ],
 "metadata": {
  "kernelspec": {
   "display_name": "Python 3",
   "language": "python",
   "name": "python3"
  },
  "language_info": {
   "codemirror_mode": {
    "name": "ipython",
    "version": 3
   },
   "file_extension": ".py",
   "mimetype": "text/x-python",
   "name": "python",
   "nbconvert_exporter": "python",
   "pygments_lexer": "ipython3",
   "version": "3.8.8"
  }
 },
 "nbformat": 4,
 "nbformat_minor": 5
}
